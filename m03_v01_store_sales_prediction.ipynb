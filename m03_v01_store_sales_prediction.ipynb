{
 "cells": [
  {
   "cell_type": "markdown",
   "id": "55003f9c",
   "metadata": {},
   "source": [
    "# 0.0. Imports"
   ]
  },
  {
   "cell_type": "code",
   "execution_count": 1,
   "id": "5d603769",
   "metadata": {
    "ExecuteTime": {
     "end_time": "2022-06-18T16:24:54.411513Z",
     "start_time": "2022-06-18T16:24:30.920886Z"
    }
   },
   "outputs": [],
   "source": [
    "import pandas as pd\n",
    "import numpy as np\n",
    "import datetime as dt\n",
    "import seaborn as sns\n",
    "import inflection\n",
    "import math\n",
    "\n",
    "from IPython.core.display import HTML\n",
    "from IPython.display import Image\n",
    "from matplotlib import pyplot as plt"
   ]
  },
  {
   "cell_type": "markdown",
   "id": "2e49d80b",
   "metadata": {},
   "source": [
    "## 0.1. Helper Functions\n"
   ]
  },
  {
   "cell_type": "code",
   "execution_count": 27,
   "id": "101756aa",
   "metadata": {
    "ExecuteTime": {
     "end_time": "2022-06-18T16:53:24.905249Z",
     "start_time": "2022-06-18T16:53:24.888250Z"
    }
   },
   "outputs": [],
   "source": [
    "def jupyter_settings():\n",
    "    %matplotlib inline\n",
    "    %pylab inline\n",
    "    \n",
    "    plt.style.use( 'bmh' )\n",
    "    plt.rcParams['figure.figsize'] = [25,12]\n",
    "    plt.rcParams['font.size'] = 24\n",
    "    \n",
    "    display( HTML( '<style>.container { width:100% !important; }</style>') )\n",
    "    pd.options.display.max_columns =  None\n",
    "    pd.options.display.max_rows = None\n",
    "    pd.set_option( 'display.expand_frame_repr', False )\n",
    "    \n",
    "    sns.set()\n",
    "    "
   ]
  },
  {
   "cell_type": "code",
   "execution_count": 28,
   "id": "640e52ea",
   "metadata": {
    "ExecuteTime": {
     "end_time": "2022-06-18T16:53:26.180353Z",
     "start_time": "2022-06-18T16:53:26.166349Z"
    }
   },
   "outputs": [
    {
     "name": "stdout",
     "output_type": "stream",
     "text": [
      "Populating the interactive namespace from numpy and matplotlib\n"
     ]
    },
    {
     "data": {
      "text/html": [
       "<style>.container { width:100% !important; }</style>"
      ],
      "text/plain": [
       "<IPython.core.display.HTML object>"
      ]
     },
     "metadata": {},
     "output_type": "display_data"
    }
   ],
   "source": [
    "jupyter_settings()"
   ]
  },
  {
   "cell_type": "markdown",
   "id": "2088e149",
   "metadata": {},
   "source": [
    "## 0.2. Loading Data"
   ]
  },
  {
   "cell_type": "code",
   "execution_count": 2,
   "id": "39853e29",
   "metadata": {
    "ExecuteTime": {
     "end_time": "2022-06-18T16:24:56.316283Z",
     "start_time": "2022-06-18T16:24:54.416516Z"
    }
   },
   "outputs": [],
   "source": [
    "df_sales_raw = pd.read_csv( 'data/train.csv', low_memory = False)\n",
    "df_store_raw = pd.read_csv( 'data/store.csv', low_memory = False)\n",
    "\n",
    "# merge\n",
    "df_raw = pd.merge( df_sales_raw, df_store_raw, how = 'left', on='Store')"
   ]
  },
  {
   "cell_type": "code",
   "execution_count": null,
   "id": "725bd2bb",
   "metadata": {
    "ExecuteTime": {
     "end_time": "2022-06-16T15:02:46.957041Z",
     "start_time": "2022-06-16T15:02:46.927041Z"
    }
   },
   "outputs": [],
   "source": [
    "df_raw.sample"
   ]
  },
  {
   "cell_type": "markdown",
   "id": "5f446dd1",
   "metadata": {},
   "source": [
    "# PASSO 01 - Descrição dos dados"
   ]
  },
  {
   "cell_type": "markdown",
   "id": "0dc9c7cf",
   "metadata": {},
   "source": [
    "## copy data / columns"
   ]
  },
  {
   "cell_type": "code",
   "execution_count": 3,
   "id": "ecf56d37",
   "metadata": {
    "ExecuteTime": {
     "end_time": "2022-06-18T16:25:03.102639Z",
     "start_time": "2022-06-18T16:25:02.884642Z"
    }
   },
   "outputs": [],
   "source": [
    "df1 = df_raw.copy()"
   ]
  },
  {
   "cell_type": "code",
   "execution_count": null,
   "id": "76935a71",
   "metadata": {
    "ExecuteTime": {
     "end_time": "2022-06-16T15:07:08.585326Z",
     "start_time": "2022-06-16T15:07:08.576322Z"
    }
   },
   "outputs": [],
   "source": [
    "df1.columns"
   ]
  },
  {
   "cell_type": "markdown",
   "id": "61aed956",
   "metadata": {},
   "source": [
    "## 1.1. Rename Columns"
   ]
  },
  {
   "cell_type": "code",
   "execution_count": 4,
   "id": "6157fe1f",
   "metadata": {
    "ExecuteTime": {
     "end_time": "2022-06-18T16:25:07.145664Z",
     "start_time": "2022-06-18T16:25:07.132665Z"
    }
   },
   "outputs": [],
   "source": [
    "cols_old = ['Store', 'DayOfWeek', 'Date', 'Sales', 'Customers', 'Open', 'Promo','StateHoliday', 'SchoolHoliday',\n",
    "            'StoreType', 'Assortment',       'CompetitionDistance', 'CompetitionOpenSinceMonth',\n",
    "            'CompetitionOpenSinceYear', 'Promo2', 'Promo2SinceWeek','Promo2SinceYear', 'PromoInterval']\n",
    "\n",
    "snakecase = lambda x: inflection.underscore( x )\n",
    "\n",
    "cols_new = list (map( snakecase, cols_old ) )\n",
    "\n",
    "df1.columns = cols_new"
   ]
  },
  {
   "cell_type": "code",
   "execution_count": null,
   "id": "46d7fbce",
   "metadata": {
    "ExecuteTime": {
     "end_time": "2022-06-16T15:12:12.515224Z",
     "start_time": "2022-06-16T15:12:12.500460Z"
    }
   },
   "outputs": [],
   "source": [
    "df1.columns"
   ]
  },
  {
   "cell_type": "markdown",
   "id": "b9b329e2",
   "metadata": {},
   "source": [
    "## 1.2. Data Dimensions"
   ]
  },
  {
   "cell_type": "code",
   "execution_count": 5,
   "id": "606c6597",
   "metadata": {
    "ExecuteTime": {
     "end_time": "2022-06-18T16:25:11.945254Z",
     "start_time": "2022-06-18T16:25:11.932256Z"
    }
   },
   "outputs": [
    {
     "name": "stdout",
     "output_type": "stream",
     "text": [
      "Number of Rows: 1017209\n",
      "Number of Cols: 18\n"
     ]
    }
   ],
   "source": [
    "print( 'Number of Rows: {}'.format( df1.shape[0] ) )\n",
    "print( 'Number of Cols: {}'.format( df1.shape[1] ) )"
   ]
  },
  {
   "cell_type": "markdown",
   "id": "6ec29720",
   "metadata": {},
   "source": [
    "## 1.3. Data Types"
   ]
  },
  {
   "cell_type": "code",
   "execution_count": null,
   "id": "320bd2c4",
   "metadata": {
    "ExecuteTime": {
     "end_time": "2022-06-16T15:13:55.355066Z",
     "start_time": "2022-06-16T15:13:55.333059Z"
    }
   },
   "outputs": [],
   "source": [
    "df1.dtypes"
   ]
  },
  {
   "cell_type": "code",
   "execution_count": 30,
   "id": "086be4dd",
   "metadata": {
    "ExecuteTime": {
     "end_time": "2022-06-18T16:55:11.965111Z",
     "start_time": "2022-06-18T16:55:11.874112Z"
    }
   },
   "outputs": [
    {
     "data": {
      "text/plain": [
       "store                                    int64\n",
       "day_of_week                              int64\n",
       "date                            datetime64[ns]\n",
       "sales                                    int64\n",
       "customers                                int64\n",
       "open                                     int64\n",
       "promo                                    int64\n",
       "state_holiday                           object\n",
       "school_holiday                           int64\n",
       "store_type                              object\n",
       "assortment                              object\n",
       "competition_distance                   float64\n",
       "competition_open_since_month             int32\n",
       "competition_open_since_year              int32\n",
       "promo2                                   int64\n",
       "promo2_since_week                        int32\n",
       "promo2_since_year                        int32\n",
       "promo_interval                          object\n",
       "month_map                               object\n",
       "is_promo                                 int64\n",
       "dtype: object"
      ]
     },
     "execution_count": 30,
     "metadata": {},
     "output_type": "execute_result"
    }
   ],
   "source": [
    "df1['date'] = pd.to_datetime( df1['date'] )\n",
    "df1.dtypes"
   ]
  },
  {
   "cell_type": "markdown",
   "id": "e621223e",
   "metadata": {},
   "source": [
    "## 1.4. Check NA"
   ]
  },
  {
   "cell_type": "code",
   "execution_count": 31,
   "id": "6db5921d",
   "metadata": {
    "ExecuteTime": {
     "end_time": "2022-06-18T16:55:19.468574Z",
     "start_time": "2022-06-18T16:55:18.320574Z"
    }
   },
   "outputs": [
    {
     "data": {
      "text/plain": [
       "store                           0\n",
       "day_of_week                     0\n",
       "date                            0\n",
       "sales                           0\n",
       "customers                       0\n",
       "open                            0\n",
       "promo                           0\n",
       "state_holiday                   0\n",
       "school_holiday                  0\n",
       "store_type                      0\n",
       "assortment                      0\n",
       "competition_distance            0\n",
       "competition_open_since_month    0\n",
       "competition_open_since_year     0\n",
       "promo2                          0\n",
       "promo2_since_week               0\n",
       "promo2_since_year               0\n",
       "promo_interval                  0\n",
       "month_map                       0\n",
       "is_promo                        0\n",
       "dtype: int64"
      ]
     },
     "execution_count": 31,
     "metadata": {},
     "output_type": "execute_result"
    }
   ],
   "source": [
    "df1.isna().sum()"
   ]
  },
  {
   "cell_type": "markdown",
   "id": "016770b2",
   "metadata": {},
   "source": [
    "## 1.5. Fillout NA"
   ]
  },
  {
   "cell_type": "code",
   "execution_count": 8,
   "id": "d3382463",
   "metadata": {
    "ExecuteTime": {
     "end_time": "2022-06-18T16:27:47.923665Z",
     "start_time": "2022-06-18T16:25:25.230311Z"
    }
   },
   "outputs": [],
   "source": [
    "# competition_distance      \n",
    "\n",
    "df1['competition_distance'] = df1['competition_distance'].apply(lambda x : 200000.0 if math.isnan( x ) else x )\n",
    "\n",
    "# competition_open_since_month\n",
    "\n",
    "df1['competition_open_since_month'] = df1.apply(lambda x : x['date'].month if math.isnan( x['competition_open_since_month'] ) else x['competition_open_since_month'], axis=1 )\n",
    "\n",
    "# competition_open_since_year \n",
    "\n",
    "df1['competition_open_since_year'] = df1.apply(lambda x : x['date'].year if math.isnan( x['competition_open_since_year'] ) else x['competition_open_since_year'], axis=1 )\n",
    "                    \n",
    "# promo2_since_week \n",
    "\n",
    "df1['promo2_since_week'] = df1.apply(lambda x : x['date'].week if math.isnan( x['promo2_since_week'] ) else x['promo2_since_week'], axis=1 )\n",
    "\n",
    "# promo2_since_year           \n",
    "\n",
    "df1['promo2_since_year'] = df1.apply(lambda x : x['date'].year if math.isnan( x['promo2_since_year'] ) else x['promo2_since_year'], axis=1 )\n",
    "\n",
    "# promo_interval\n",
    "month_map = { 1: 'Jan', 2:'Fev', 3:'Mar', 4:'Apr', 5:'May', 6:'Jun', 7:'Jul', 8:'Agu', 9:'Sep', 10:'Oct', 11:'Nov', 12:'Dez' }\n",
    "\n",
    "df1['promo_interval'].fillna( 0 , inplace=True )\n",
    "\n",
    "df1['month_map'] = df1['date'].dt.month.map( month_map )\n",
    "\n",
    "df1['is_promo'] = df1[['promo_interval','month_map']].apply( lambda x :0 if x['promo_interval'] ==  0 else 1 if x['month_map'] in x['promo_interval'].split( ',' ) else 0 , axis = 1 )\n",
    "\n"
   ]
  },
  {
   "cell_type": "code",
   "execution_count": 9,
   "id": "27d4e4a8",
   "metadata": {
    "ExecuteTime": {
     "end_time": "2022-06-18T16:28:54.020352Z",
     "start_time": "2022-06-18T16:28:52.588351Z"
    }
   },
   "outputs": [
    {
     "data": {
      "text/plain": [
       "store                           0\n",
       "day_of_week                     0\n",
       "date                            0\n",
       "sales                           0\n",
       "customers                       0\n",
       "open                            0\n",
       "promo                           0\n",
       "state_holiday                   0\n",
       "school_holiday                  0\n",
       "store_type                      0\n",
       "assortment                      0\n",
       "competition_distance            0\n",
       "competition_open_since_month    0\n",
       "competition_open_since_year     0\n",
       "promo2                          0\n",
       "promo2_since_week               0\n",
       "promo2_since_year               0\n",
       "promo_interval                  0\n",
       "month_map                       0\n",
       "is_promo                        0\n",
       "dtype: int64"
      ]
     },
     "execution_count": 9,
     "metadata": {},
     "output_type": "execute_result"
    }
   ],
   "source": [
    "df1.isna().sum()"
   ]
  },
  {
   "cell_type": "markdown",
   "id": "89e70d44",
   "metadata": {},
   "source": [
    "## 1.6. Change types"
   ]
  },
  {
   "cell_type": "code",
   "execution_count": null,
   "id": "c7e79e73",
   "metadata": {
    "ExecuteTime": {
     "end_time": "2022-06-16T16:46:25.200662Z",
     "start_time": "2022-06-16T16:46:25.186653Z"
    }
   },
   "outputs": [],
   "source": [
    "df1.dtypes"
   ]
  },
  {
   "cell_type": "code",
   "execution_count": 10,
   "id": "f8009a72",
   "metadata": {
    "ExecuteTime": {
     "end_time": "2022-06-18T16:28:58.678175Z",
     "start_time": "2022-06-18T16:28:58.581175Z"
    }
   },
   "outputs": [],
   "source": [
    "df1['competition_open_since_month'] = df1['competition_open_since_month'].astype( int )\n",
    "df1['competition_open_since_year'] = df1['competition_open_since_year'].astype( int )\n",
    "\n",
    "df1['promo2_since_week'] = df1['promo2_since_week'].astype( int )\n",
    "df1['promo2_since_year'] = df1['promo2_since_year'].astype( int )"
   ]
  },
  {
   "cell_type": "markdown",
   "id": "2a5e7763",
   "metadata": {},
   "source": [
    "## 1.7. Descriptive Statistical"
   ]
  },
  {
   "cell_type": "code",
   "execution_count": 11,
   "id": "41d67ec4",
   "metadata": {
    "ExecuteTime": {
     "end_time": "2022-06-18T16:29:05.678127Z",
     "start_time": "2022-06-18T16:29:05.668129Z"
    }
   },
   "outputs": [],
   "source": [
    "num_attributes = df1.select_dtypes( include=['int64', 'float64', 'int32'])\n",
    "\n",
    "cat_attributes = df1.select_dtypes( exclude=['int64', 'float64', 'int32','datetime64[ns]'])"
   ]
  },
  {
   "cell_type": "markdown",
   "id": "888530b1",
   "metadata": {},
   "source": [
    "### 1.7.1 Numerical Attributes"
   ]
  },
  {
   "cell_type": "code",
   "execution_count": 12,
   "id": "71b231f4",
   "metadata": {
    "ExecuteTime": {
     "end_time": "2022-06-18T16:29:13.002622Z",
     "start_time": "2022-06-18T16:29:08.014384Z"
    }
   },
   "outputs": [
    {
     "data": {
      "text/html": [
       "<div>\n",
       "<style scoped>\n",
       "    .dataframe tbody tr th:only-of-type {\n",
       "        vertical-align: middle;\n",
       "    }\n",
       "\n",
       "    .dataframe tbody tr th {\n",
       "        vertical-align: top;\n",
       "    }\n",
       "\n",
       "    .dataframe thead th {\n",
       "        text-align: right;\n",
       "    }\n",
       "</style>\n",
       "<table border=\"1\" class=\"dataframe\">\n",
       "  <thead>\n",
       "    <tr style=\"text-align: right;\">\n",
       "      <th></th>\n",
       "      <th>attributes</th>\n",
       "      <th>min</th>\n",
       "      <th>max</th>\n",
       "      <th>range</th>\n",
       "      <th>mean</th>\n",
       "      <th>median</th>\n",
       "      <th>std</th>\n",
       "      <th>skew</th>\n",
       "      <th>kurtosis</th>\n",
       "    </tr>\n",
       "  </thead>\n",
       "  <tbody>\n",
       "    <tr>\n",
       "      <th>0</th>\n",
       "      <td>store</td>\n",
       "      <td>1.0</td>\n",
       "      <td>1115.0</td>\n",
       "      <td>1114.0</td>\n",
       "      <td>558.429727</td>\n",
       "      <td>558.0</td>\n",
       "      <td>321.908493</td>\n",
       "      <td>-0.000955</td>\n",
       "      <td>-1.200524</td>\n",
       "    </tr>\n",
       "    <tr>\n",
       "      <th>1</th>\n",
       "      <td>day_of_week</td>\n",
       "      <td>1.0</td>\n",
       "      <td>7.0</td>\n",
       "      <td>6.0</td>\n",
       "      <td>3.998341</td>\n",
       "      <td>4.0</td>\n",
       "      <td>1.997390</td>\n",
       "      <td>0.001593</td>\n",
       "      <td>-1.246873</td>\n",
       "    </tr>\n",
       "    <tr>\n",
       "      <th>2</th>\n",
       "      <td>sales</td>\n",
       "      <td>0.0</td>\n",
       "      <td>41551.0</td>\n",
       "      <td>41551.0</td>\n",
       "      <td>5773.818972</td>\n",
       "      <td>5744.0</td>\n",
       "      <td>3849.924283</td>\n",
       "      <td>0.641460</td>\n",
       "      <td>1.778375</td>\n",
       "    </tr>\n",
       "    <tr>\n",
       "      <th>3</th>\n",
       "      <td>customers</td>\n",
       "      <td>0.0</td>\n",
       "      <td>7388.0</td>\n",
       "      <td>7388.0</td>\n",
       "      <td>633.145946</td>\n",
       "      <td>609.0</td>\n",
       "      <td>464.411506</td>\n",
       "      <td>1.598650</td>\n",
       "      <td>7.091773</td>\n",
       "    </tr>\n",
       "    <tr>\n",
       "      <th>4</th>\n",
       "      <td>open</td>\n",
       "      <td>0.0</td>\n",
       "      <td>1.0</td>\n",
       "      <td>1.0</td>\n",
       "      <td>0.830107</td>\n",
       "      <td>1.0</td>\n",
       "      <td>0.375539</td>\n",
       "      <td>-1.758045</td>\n",
       "      <td>1.090723</td>\n",
       "    </tr>\n",
       "    <tr>\n",
       "      <th>5</th>\n",
       "      <td>promo</td>\n",
       "      <td>0.0</td>\n",
       "      <td>1.0</td>\n",
       "      <td>1.0</td>\n",
       "      <td>0.381515</td>\n",
       "      <td>0.0</td>\n",
       "      <td>0.485758</td>\n",
       "      <td>0.487838</td>\n",
       "      <td>-1.762018</td>\n",
       "    </tr>\n",
       "    <tr>\n",
       "      <th>6</th>\n",
       "      <td>school_holiday</td>\n",
       "      <td>0.0</td>\n",
       "      <td>1.0</td>\n",
       "      <td>1.0</td>\n",
       "      <td>0.178647</td>\n",
       "      <td>0.0</td>\n",
       "      <td>0.383056</td>\n",
       "      <td>1.677842</td>\n",
       "      <td>0.815154</td>\n",
       "    </tr>\n",
       "    <tr>\n",
       "      <th>7</th>\n",
       "      <td>competition_distance</td>\n",
       "      <td>20.0</td>\n",
       "      <td>200000.0</td>\n",
       "      <td>199980.0</td>\n",
       "      <td>5935.442677</td>\n",
       "      <td>2330.0</td>\n",
       "      <td>12547.646829</td>\n",
       "      <td>10.242344</td>\n",
       "      <td>147.789712</td>\n",
       "    </tr>\n",
       "    <tr>\n",
       "      <th>8</th>\n",
       "      <td>competition_open_since_month</td>\n",
       "      <td>1.0</td>\n",
       "      <td>12.0</td>\n",
       "      <td>11.0</td>\n",
       "      <td>6.786849</td>\n",
       "      <td>7.0</td>\n",
       "      <td>3.311085</td>\n",
       "      <td>-0.042076</td>\n",
       "      <td>-1.232607</td>\n",
       "    </tr>\n",
       "    <tr>\n",
       "      <th>9</th>\n",
       "      <td>competition_open_since_year</td>\n",
       "      <td>1900.0</td>\n",
       "      <td>2015.0</td>\n",
       "      <td>115.0</td>\n",
       "      <td>2010.324840</td>\n",
       "      <td>2012.0</td>\n",
       "      <td>5.515591</td>\n",
       "      <td>-7.235657</td>\n",
       "      <td>124.071304</td>\n",
       "    </tr>\n",
       "    <tr>\n",
       "      <th>10</th>\n",
       "      <td>promo2</td>\n",
       "      <td>0.0</td>\n",
       "      <td>1.0</td>\n",
       "      <td>1.0</td>\n",
       "      <td>0.500564</td>\n",
       "      <td>1.0</td>\n",
       "      <td>0.500000</td>\n",
       "      <td>-0.002255</td>\n",
       "      <td>-1.999999</td>\n",
       "    </tr>\n",
       "    <tr>\n",
       "      <th>11</th>\n",
       "      <td>promo2_since_week</td>\n",
       "      <td>1.0</td>\n",
       "      <td>52.0</td>\n",
       "      <td>51.0</td>\n",
       "      <td>23.619033</td>\n",
       "      <td>22.0</td>\n",
       "      <td>14.310057</td>\n",
       "      <td>0.178723</td>\n",
       "      <td>-1.184046</td>\n",
       "    </tr>\n",
       "    <tr>\n",
       "      <th>12</th>\n",
       "      <td>promo2_since_year</td>\n",
       "      <td>2009.0</td>\n",
       "      <td>2015.0</td>\n",
       "      <td>6.0</td>\n",
       "      <td>2012.793297</td>\n",
       "      <td>2013.0</td>\n",
       "      <td>1.662657</td>\n",
       "      <td>-0.784436</td>\n",
       "      <td>-0.210075</td>\n",
       "    </tr>\n",
       "    <tr>\n",
       "      <th>13</th>\n",
       "      <td>is_promo</td>\n",
       "      <td>0.0</td>\n",
       "      <td>1.0</td>\n",
       "      <td>1.0</td>\n",
       "      <td>0.141882</td>\n",
       "      <td>0.0</td>\n",
       "      <td>0.348929</td>\n",
       "      <td>2.052668</td>\n",
       "      <td>2.213451</td>\n",
       "    </tr>\n",
       "  </tbody>\n",
       "</table>\n",
       "</div>"
      ],
      "text/plain": [
       "                      attributes     min       max     range         mean  \\\n",
       "0                          store     1.0    1115.0    1114.0   558.429727   \n",
       "1                    day_of_week     1.0       7.0       6.0     3.998341   \n",
       "2                          sales     0.0   41551.0   41551.0  5773.818972   \n",
       "3                      customers     0.0    7388.0    7388.0   633.145946   \n",
       "4                           open     0.0       1.0       1.0     0.830107   \n",
       "5                          promo     0.0       1.0       1.0     0.381515   \n",
       "6                 school_holiday     0.0       1.0       1.0     0.178647   \n",
       "7           competition_distance    20.0  200000.0  199980.0  5935.442677   \n",
       "8   competition_open_since_month     1.0      12.0      11.0     6.786849   \n",
       "9    competition_open_since_year  1900.0    2015.0     115.0  2010.324840   \n",
       "10                        promo2     0.0       1.0       1.0     0.500564   \n",
       "11             promo2_since_week     1.0      52.0      51.0    23.619033   \n",
       "12             promo2_since_year  2009.0    2015.0       6.0  2012.793297   \n",
       "13                      is_promo     0.0       1.0       1.0     0.141882   \n",
       "\n",
       "    median           std       skew    kurtosis  \n",
       "0    558.0    321.908493  -0.000955   -1.200524  \n",
       "1      4.0      1.997390   0.001593   -1.246873  \n",
       "2   5744.0   3849.924283   0.641460    1.778375  \n",
       "3    609.0    464.411506   1.598650    7.091773  \n",
       "4      1.0      0.375539  -1.758045    1.090723  \n",
       "5      0.0      0.485758   0.487838   -1.762018  \n",
       "6      0.0      0.383056   1.677842    0.815154  \n",
       "7   2330.0  12547.646829  10.242344  147.789712  \n",
       "8      7.0      3.311085  -0.042076   -1.232607  \n",
       "9   2012.0      5.515591  -7.235657  124.071304  \n",
       "10     1.0      0.500000  -0.002255   -1.999999  \n",
       "11    22.0     14.310057   0.178723   -1.184046  \n",
       "12  2013.0      1.662657  -0.784436   -0.210075  \n",
       "13     0.0      0.348929   2.052668    2.213451  "
      ]
     },
     "execution_count": 12,
     "metadata": {},
     "output_type": "execute_result"
    }
   ],
   "source": [
    "# Metricas tendência Central - MEAN, MEDIAN\n",
    "\n",
    "ct1 = pd.DataFrame (num_attributes.apply( np.mean ) ).T\n",
    "ct2 = pd.DataFrame (num_attributes.apply( np.median ) ).T\n",
    "\n",
    "# Metricas Dispersão - STD - MIN - MAX - RANGE - SKEW - KURTOSIS\n",
    "\n",
    "d1 = pd.DataFrame (num_attributes.apply( np.std ) ).T\n",
    "d2 = pd.DataFrame (num_attributes.apply( min ) ).T\n",
    "d3 = pd.DataFrame (num_attributes.apply( max ) ).T\n",
    "d4 = pd.DataFrame (num_attributes.apply( lambda x: x.max() - x.min() ) ).T\n",
    "d5 = pd.DataFrame (num_attributes.apply( lambda x: x.skew() ) ).T\n",
    "d6 = pd.DataFrame (num_attributes.apply( lambda x: x.kurtosis()) ).T\n",
    "\n",
    "# concat\n",
    "\n",
    "m = pd.concat( [ d2, d3, d4, ct1, ct2, d1, d5, d6 ]).T.reset_index()\n",
    "m.columns = ['attributes','min','max','range','mean','median','std','skew','kurtosis'] \n",
    "m\n",
    "\n"
   ]
  },
  {
   "cell_type": "code",
   "execution_count": 32,
   "id": "256fd0d5",
   "metadata": {
    "ExecuteTime": {
     "end_time": "2022-06-18T16:56:49.354554Z",
     "start_time": "2022-06-18T16:56:48.797556Z"
    }
   },
   "outputs": [
    {
     "name": "stderr",
     "output_type": "stream",
     "text": [
      "C:\\ProgramData\\Anaconda3\\lib\\site-packages\\seaborn\\distributions.py:2619: FutureWarning: `distplot` is a deprecated function and will be removed in a future version. Please adapt your code to use either `displot` (a figure-level function with similar flexibility) or `histplot` (an axes-level function for histograms).\n",
      "  warnings.warn(msg, FutureWarning)\n"
     ]
    },
    {
     "data": {
      "image/png": "[encoded data removed]",
      "text/plain": [
       "<Figure size 1800x864 with 1 Axes>"
      ]
     },
     "metadata": {},
     "output_type": "display_data"
    }
   ],
   "source": [
    "\n",
    "sns.distplot( df1['competition_distance'], kde=False);"
   ]
  },
  {
   "cell_type": "markdown",
   "id": "e1299c80",
   "metadata": {},
   "source": [
    "### 1.7.2 Categoric Attributes\n"
   ]
  },
  {
   "cell_type": "code",
   "execution_count": 14,
   "id": "81e40539",
   "metadata": {
    "ExecuteTime": {
     "end_time": "2022-06-18T16:29:31.561220Z",
     "start_time": "2022-06-18T16:29:30.864219Z"
    }
   },
   "outputs": [
    {
     "data": {
      "text/plain": [
       "state_holiday      4\n",
       "store_type         4\n",
       "assortment         3\n",
       "promo_interval     4\n",
       "month_map         12\n",
       "dtype: int64"
      ]
     },
     "execution_count": 14,
     "metadata": {},
     "output_type": "execute_result"
    }
   ],
   "source": [
    "cat_attributes.apply( lambda x: x.unique().shape[0])"
   ]
  },
  {
   "cell_type": "code",
   "execution_count": 33,
   "id": "2bab0ad6",
   "metadata": {
    "ExecuteTime": {
     "end_time": "2022-06-18T16:57:10.349035Z",
     "start_time": "2022-06-18T16:57:09.497037Z"
    }
   },
   "outputs": [
    {
     "data": {
      "text/plain": [
       "<AxesSubplot:xlabel='assortment', ylabel='sales'>"
      ]
     },
     "execution_count": 33,
     "metadata": {},
     "output_type": "execute_result"
    },
    {
     "data": {
      "image/png": "[encoded data removed]",
      "text/plain": [
       "<Figure size 1800x864 with 3 Axes>"
      ]
     },
     "metadata": {},
     "output_type": "display_data"
    }
   ],
   "source": [
    "aux1 = df1[(df1['state_holiday'] != '0' ) & (df1['sales'] > 0)]\n",
    "\n",
    "plt.subplot( 1, 3, 1 )\n",
    "sns.boxplot( data = aux1, x = 'state_holiday', y = 'sales' )\n",
    "\n",
    "plt.subplot( 1, 3, 2 )\n",
    "sns.boxplot( data = aux1, x = 'store_type', y = 'sales' )\n",
    "\n",
    "plt.subplot( 1, 3, 3 )\n",
    "sns.boxplot( data = aux1, x = 'assortment', y = 'sales' )\n"
   ]
  },
  {
   "cell_type": "markdown",
   "id": "d2f2ae7f",
   "metadata": {},
   "source": [
    "# PASSO 02 - Feature Enineering"
   ]
  },
  {
   "cell_type": "code",
   "execution_count": 16,
   "id": "1741e81c",
   "metadata": {
    "ExecuteTime": {
     "end_time": "2022-06-18T16:29:42.681159Z",
     "start_time": "2022-06-18T16:29:42.609159Z"
    }
   },
   "outputs": [],
   "source": [
    "df2 = df1.copy()"
   ]
  },
  {
   "cell_type": "markdown",
   "id": "2d219364",
   "metadata": {},
   "source": [
    "## 2.1. Mapa Mental de Hipoteses"
   ]
  },
  {
   "cell_type": "code",
   "execution_count": 17,
   "id": "f31039eb",
   "metadata": {
    "ExecuteTime": {
     "end_time": "2022-06-18T16:29:47.395995Z",
     "start_time": "2022-06-18T16:29:47.117181Z"
    }
   },
   "outputs": [
    {
     "data": {
      "image/png": "[encoded data removed]",
      "text/plain": [
       "<IPython.core.display.Image object>"
      ]
     },
     "execution_count": 17,
     "metadata": {},
     "output_type": "execute_result"
    }
   ],
   "source": [
    "Image( 'img/MindMapHypothesis.png' )"
   ]
  },
  {
   "cell_type": "markdown",
   "id": "316788c3",
   "metadata": {
    "heading_collapsed": true
   },
   "source": [
    "## 2.1 Criação das Hipoteses"
   ]
  },
  {
   "cell_type": "markdown",
   "id": "b79ad514",
   "metadata": {
    "heading_collapsed": true,
    "hidden": true
   },
   "source": [
    "### 2.1.1. Hipoteses Loja"
   ]
  },
  {
   "cell_type": "markdown",
   "id": "2e45a87f",
   "metadata": {
    "ExecuteTime": {
     "end_time": "2022-06-16T19:11:14.861492Z",
     "start_time": "2022-06-16T19:11:14.851491Z"
    },
    "hidden": true
   },
   "source": [
    "**1.** Lojas com número **maior quadro de funcionarios**, deveriam vender mais.\n",
    "\n",
    "**2.** Lojas com **maior capacidade de estoque**, deveriam vender mais.\n",
    "\n",
    "**3.** Lojas com **maior Porte**, deveriam vender mais.\n",
    "\n",
    "**4.** Lojas com **maior sortimento**, deveriam vender mais.\n",
    "\n",
    "**5.** Lojas com **competidores mas próximos**, deveriam vender menos.\n",
    "\n",
    "**6.** Lojas com **competidores à mais tempo**, deveriam vender mais.\n",
    "\n",
    "\n"
   ]
  },
  {
   "cell_type": "markdown",
   "id": "94da4bd9",
   "metadata": {
    "heading_collapsed": true,
    "hidden": true
   },
   "source": [
    "### 2.1.2. Hipoteses Produto"
   ]
  },
  {
   "cell_type": "markdown",
   "id": "31d36370",
   "metadata": {
    "hidden": true
   },
   "source": [
    "**1.** Lojas que **investem mais** em **Marketing** deveriam vender mais.\n",
    "\n",
    "**2.** Lojas com **maior exposição do produtos** deveriam vender mais.\n",
    "\n",
    "**3.** Lojas que tem **preços menores** nos **produtos** deveriam vender mais.\n",
    "\n",
    "**4.** Lojas que tem **expoe menores** por **mais tempo nos produtos** deveriam vender mais.\n",
    "\n",
    "**5.** Lojas com **promoções mais agressivos( descontos maiores)**, deveriam vender mais.\n",
    "\n",
    "**6.** Lojas com **promoções ativas por mais tempo**, deveriam vender mais.\n",
    "\n",
    "**7.** Lojas com **mais dias de promoção**, deveriam vender mais.\n",
    "\n",
    "**8.** Lojas com **mais promoção consecutivas**, deveriam vender mais.\n",
    "\n"
   ]
  },
  {
   "cell_type": "markdown",
   "id": "267fb30f",
   "metadata": {
    "heading_collapsed": true,
    "hidden": true
   },
   "source": [
    "### 2.1.3. Hipoteses Tempo"
   ]
  },
  {
   "cell_type": "markdown",
   "id": "04f9cdc4",
   "metadata": {
    "hidden": true
   },
   "source": [
    "**1.** Lojas abertas **durante o feriado de Natal**, deveriam vender mais.\n",
    "\n",
    "**2.** Lojas deveriam vender mais **ao longo dos anos**.\n",
    "\n",
    "**3.** Lojas deveriam vender mais **no segundo semestre do ano**.\n",
    "\n",
    "**4.** Lojas deveriam vender mais **depois do dia 10 de cada mês**.\n",
    "\n",
    "**5.** Lojas deveriam vender menos **aos finais de semana**.\n",
    "\n",
    "**6.** Lojas deveriam vender menos **durante os feriados escolares**."
   ]
  },
  {
   "cell_type": "markdown",
   "id": "f5fa8fdf",
   "metadata": {
    "heading_collapsed": true
   },
   "source": [
    "## 2.2. Lista Final de Hipóteses"
   ]
  },
  {
   "cell_type": "markdown",
   "id": "38229e8a",
   "metadata": {
    "ExecuteTime": {
     "end_time": "2022-06-16T19:43:22.675396Z",
     "start_time": "2022-06-16T19:43:22.665396Z"
    },
    "hidden": true
   },
   "source": [
    "**1.** Lojas com **maior sortimento**, deveriam vender mais.\n",
    "\n",
    "**2.** Lojas com **competidores mas próximos**, deveriam vender menos.\n",
    "\n",
    "**3.** Lojas com **competidores à mais tempo**, deveriam vender mais.\n",
    "\n",
    "**4.** Lojas com **promoções ativas por mais tempo**, deveriam vender mais.\n",
    "\n",
    "**5.** Lojas com **mais dias de promoção**, deveriam vender mais.\n",
    "\n",
    "**6.** Lojas com **mais promoção consecutivas**, deveriam vender mais.\n",
    "\n",
    "**7.** Lojas abertas **durante o feriado de Natal**, deveriam vender mais.\n",
    "\n",
    "**8.** Lojas deveriam vender mais **ao longo dos anos**.\n",
    "\n",
    "**9.** Lojas deveriam vender mais **no segundo semestre do ano**.\n",
    "\n",
    "**10.** Lojas deveriam vender mais **depois do dia 10 de cada mês**.\n",
    "\n",
    "**11.** Lojas deveriam vender menos **aos finais de semana**.\n",
    "\n",
    "**12.** Lojas deveriam vender menos **durante os feriados escolares**."
   ]
  },
  {
   "cell_type": "markdown",
   "id": "bd1159a4",
   "metadata": {},
   "source": [
    "## 2.3 Feature Engineering"
   ]
  },
  {
   "cell_type": "code",
   "execution_count": 18,
   "id": "96ae4ef2",
   "metadata": {
    "ExecuteTime": {
     "end_time": "2022-06-18T16:32:09.322659Z",
     "start_time": "2022-06-18T16:29:57.347204Z"
    }
   },
   "outputs": [
    {
     "name": "stderr",
     "output_type": "stream",
     "text": [
      "C:\\Users\\Caixa\\AppData\\Local\\Temp/ipykernel_7768/1099862051.py:11: FutureWarning: Series.dt.weekofyear and Series.dt.week have been deprecated. Please use Series.dt.isocalendar().week instead.\n",
      "  df2['week_of_year'] = df2['date'].dt.weekofyear\n"
     ]
    }
   ],
   "source": [
    "# year\n",
    "df2['year'] = df2['date'].dt.year\n",
    "\n",
    "# month\n",
    "df2['month'] = df2['date'].dt.month\n",
    "\n",
    "# day\n",
    "df2['day'] = df2['date'].dt.day\n",
    "\n",
    "# week of year\n",
    "df2['week_of_year'] = df2['date'].dt.weekofyear\n",
    "\n",
    "# year week\n",
    "df2['week_year'] = df2['date'].dt.strftime( '%Y-%W' )\n",
    "\n",
    "# competition since\n",
    "df2['competition_since'] = df2.apply( lambda x: dt.datetime( year=x['competition_open_since_year'] , month=x['competition_open_since_month'] , day=1),axis=1)\n",
    "df2['competition_time_month'] = ( ( df2['date'] - df2['competition_since']) / 30).apply( lambda x: x.days ).astype( int )\n",
    "\n",
    "# promo since\n",
    "df2['promo_since'] = df2['promo2_since_year'].astype( str ) +'-'+ df2['promo2_since_week'].astype( str )\n",
    "\n",
    "df2['promo_since'] = df2['promo_since'].apply( lambda x: dt.datetime.strptime( x + '-1', '%Y-%W-%w' ) - dt.timedelta( days= 7 ) )\n",
    "\n",
    "df2['promo_time_week'] = ( ( df2['date'] - df2['competition_since']) / 7).apply( lambda x: x.days ).astype( int )\n",
    "\n",
    "# assortment\n",
    "df2['assortment'] = df2['assortment'].apply(lambda x: 'basic' if x == 'a' else 'extra' if x == 'b' else 'extended')\n",
    "\n",
    "# state holiday'\n",
    "df2['state_holiday'] = df2['state_holiday'].apply(lambda x: 'public_holiday' if x  == 'a' else 'easter_holiday' if x == 'b' else 'christmas' if x == 'c' else 'regular_day')\n"
   ]
  },
  {
   "cell_type": "code",
   "execution_count": 19,
   "id": "d5ff8524",
   "metadata": {
    "ExecuteTime": {
     "end_time": "2022-06-18T16:32:09.418658Z",
     "start_time": "2022-06-18T16:32:09.326659Z"
    }
   },
   "outputs": [
    {
     "data": {
      "text/html": [
       "<div>\n",
       "<style scoped>\n",
       "    .dataframe tbody tr th:only-of-type {\n",
       "        vertical-align: middle;\n",
       "    }\n",
       "\n",
       "    .dataframe tbody tr th {\n",
       "        vertical-align: top;\n",
       "    }\n",
       "\n",
       "    .dataframe thead th {\n",
       "        text-align: right;\n",
       "    }\n",
       "</style>\n",
       "<table border=\"1\" class=\"dataframe\">\n",
       "  <thead>\n",
       "    <tr style=\"text-align: right;\">\n",
       "      <th></th>\n",
       "      <th>0</th>\n",
       "      <th>1</th>\n",
       "      <th>2</th>\n",
       "      <th>3</th>\n",
       "      <th>4</th>\n",
       "    </tr>\n",
       "  </thead>\n",
       "  <tbody>\n",
       "    <tr>\n",
       "      <th>store</th>\n",
       "      <td>1</td>\n",
       "      <td>2</td>\n",
       "      <td>3</td>\n",
       "      <td>4</td>\n",
       "      <td>5</td>\n",
       "    </tr>\n",
       "    <tr>\n",
       "      <th>day_of_week</th>\n",
       "      <td>5</td>\n",
       "      <td>5</td>\n",
       "      <td>5</td>\n",
       "      <td>5</td>\n",
       "      <td>5</td>\n",
       "    </tr>\n",
       "    <tr>\n",
       "      <th>date</th>\n",
       "      <td>2015-07-31 00:00:00</td>\n",
       "      <td>2015-07-31 00:00:00</td>\n",
       "      <td>2015-07-31 00:00:00</td>\n",
       "      <td>2015-07-31 00:00:00</td>\n",
       "      <td>2015-07-31 00:00:00</td>\n",
       "    </tr>\n",
       "    <tr>\n",
       "      <th>sales</th>\n",
       "      <td>5263</td>\n",
       "      <td>6064</td>\n",
       "      <td>8314</td>\n",
       "      <td>13995</td>\n",
       "      <td>4822</td>\n",
       "    </tr>\n",
       "    <tr>\n",
       "      <th>customers</th>\n",
       "      <td>555</td>\n",
       "      <td>625</td>\n",
       "      <td>821</td>\n",
       "      <td>1498</td>\n",
       "      <td>559</td>\n",
       "    </tr>\n",
       "    <tr>\n",
       "      <th>open</th>\n",
       "      <td>1</td>\n",
       "      <td>1</td>\n",
       "      <td>1</td>\n",
       "      <td>1</td>\n",
       "      <td>1</td>\n",
       "    </tr>\n",
       "    <tr>\n",
       "      <th>promo</th>\n",
       "      <td>1</td>\n",
       "      <td>1</td>\n",
       "      <td>1</td>\n",
       "      <td>1</td>\n",
       "      <td>1</td>\n",
       "    </tr>\n",
       "    <tr>\n",
       "      <th>state_holiday</th>\n",
       "      <td>regular_day</td>\n",
       "      <td>regular_day</td>\n",
       "      <td>regular_day</td>\n",
       "      <td>regular_day</td>\n",
       "      <td>regular_day</td>\n",
       "    </tr>\n",
       "    <tr>\n",
       "      <th>school_holiday</th>\n",
       "      <td>1</td>\n",
       "      <td>1</td>\n",
       "      <td>1</td>\n",
       "      <td>1</td>\n",
       "      <td>1</td>\n",
       "    </tr>\n",
       "    <tr>\n",
       "      <th>store_type</th>\n",
       "      <td>c</td>\n",
       "      <td>a</td>\n",
       "      <td>a</td>\n",
       "      <td>c</td>\n",
       "      <td>a</td>\n",
       "    </tr>\n",
       "    <tr>\n",
       "      <th>assortment</th>\n",
       "      <td>basic</td>\n",
       "      <td>basic</td>\n",
       "      <td>basic</td>\n",
       "      <td>extended</td>\n",
       "      <td>basic</td>\n",
       "    </tr>\n",
       "    <tr>\n",
       "      <th>competition_distance</th>\n",
       "      <td>1270.0</td>\n",
       "      <td>570.0</td>\n",
       "      <td>14130.0</td>\n",
       "      <td>620.0</td>\n",
       "      <td>29910.0</td>\n",
       "    </tr>\n",
       "    <tr>\n",
       "      <th>competition_open_since_month</th>\n",
       "      <td>9</td>\n",
       "      <td>11</td>\n",
       "      <td>12</td>\n",
       "      <td>9</td>\n",
       "      <td>4</td>\n",
       "    </tr>\n",
       "    <tr>\n",
       "      <th>competition_open_since_year</th>\n",
       "      <td>2008</td>\n",
       "      <td>2007</td>\n",
       "      <td>2006</td>\n",
       "      <td>2009</td>\n",
       "      <td>2015</td>\n",
       "    </tr>\n",
       "    <tr>\n",
       "      <th>promo2</th>\n",
       "      <td>0</td>\n",
       "      <td>1</td>\n",
       "      <td>1</td>\n",
       "      <td>0</td>\n",
       "      <td>0</td>\n",
       "    </tr>\n",
       "    <tr>\n",
       "      <th>promo2_since_week</th>\n",
       "      <td>31</td>\n",
       "      <td>13</td>\n",
       "      <td>14</td>\n",
       "      <td>31</td>\n",
       "      <td>31</td>\n",
       "    </tr>\n",
       "    <tr>\n",
       "      <th>promo2_since_year</th>\n",
       "      <td>2015</td>\n",
       "      <td>2010</td>\n",
       "      <td>2011</td>\n",
       "      <td>2015</td>\n",
       "      <td>2015</td>\n",
       "    </tr>\n",
       "    <tr>\n",
       "      <th>promo_interval</th>\n",
       "      <td>0</td>\n",
       "      <td>Jan,Apr,Jul,Oct</td>\n",
       "      <td>Jan,Apr,Jul,Oct</td>\n",
       "      <td>0</td>\n",
       "      <td>0</td>\n",
       "    </tr>\n",
       "    <tr>\n",
       "      <th>month_map</th>\n",
       "      <td>Jul</td>\n",
       "      <td>Jul</td>\n",
       "      <td>Jul</td>\n",
       "      <td>Jul</td>\n",
       "      <td>Jul</td>\n",
       "    </tr>\n",
       "    <tr>\n",
       "      <th>is_promo</th>\n",
       "      <td>0</td>\n",
       "      <td>1</td>\n",
       "      <td>1</td>\n",
       "      <td>0</td>\n",
       "      <td>0</td>\n",
       "    </tr>\n",
       "    <tr>\n",
       "      <th>year</th>\n",
       "      <td>2015</td>\n",
       "      <td>2015</td>\n",
       "      <td>2015</td>\n",
       "      <td>2015</td>\n",
       "      <td>2015</td>\n",
       "    </tr>\n",
       "    <tr>\n",
       "      <th>month</th>\n",
       "      <td>7</td>\n",
       "      <td>7</td>\n",
       "      <td>7</td>\n",
       "      <td>7</td>\n",
       "      <td>7</td>\n",
       "    </tr>\n",
       "    <tr>\n",
       "      <th>day</th>\n",
       "      <td>31</td>\n",
       "      <td>31</td>\n",
       "      <td>31</td>\n",
       "      <td>31</td>\n",
       "      <td>31</td>\n",
       "    </tr>\n",
       "    <tr>\n",
       "      <th>week_of_year</th>\n",
       "      <td>31</td>\n",
       "      <td>31</td>\n",
       "      <td>31</td>\n",
       "      <td>31</td>\n",
       "      <td>31</td>\n",
       "    </tr>\n",
       "    <tr>\n",
       "      <th>week_year</th>\n",
       "      <td>2015-30</td>\n",
       "      <td>2015-30</td>\n",
       "      <td>2015-30</td>\n",
       "      <td>2015-30</td>\n",
       "      <td>2015-30</td>\n",
       "    </tr>\n",
       "    <tr>\n",
       "      <th>competition_since</th>\n",
       "      <td>2008-09-01 00:00:00</td>\n",
       "      <td>2007-11-01 00:00:00</td>\n",
       "      <td>2006-12-01 00:00:00</td>\n",
       "      <td>2009-09-01 00:00:00</td>\n",
       "      <td>2015-04-01 00:00:00</td>\n",
       "    </tr>\n",
       "    <tr>\n",
       "      <th>competition_time_month</th>\n",
       "      <td>84</td>\n",
       "      <td>94</td>\n",
       "      <td>105</td>\n",
       "      <td>71</td>\n",
       "      <td>4</td>\n",
       "    </tr>\n",
       "    <tr>\n",
       "      <th>promo_since</th>\n",
       "      <td>2015-07-27 00:00:00</td>\n",
       "      <td>2010-03-22 00:00:00</td>\n",
       "      <td>2011-03-28 00:00:00</td>\n",
       "      <td>2015-07-27 00:00:00</td>\n",
       "      <td>2015-07-27 00:00:00</td>\n",
       "    </tr>\n",
       "    <tr>\n",
       "      <th>promo_time_week</th>\n",
       "      <td>360</td>\n",
       "      <td>404</td>\n",
       "      <td>452</td>\n",
       "      <td>308</td>\n",
       "      <td>17</td>\n",
       "    </tr>\n",
       "  </tbody>\n",
       "</table>\n",
       "</div>"
      ],
      "text/plain": [
       "                                                0                    1  \\\n",
       "store                                           1                    2   \n",
       "day_of_week                                     5                    5   \n",
       "date                          2015-07-31 00:00:00  2015-07-31 00:00:00   \n",
       "sales                                        5263                 6064   \n",
       "customers                                     555                  625   \n",
       "open                                            1                    1   \n",
       "promo                                           1                    1   \n",
       "state_holiday                         regular_day          regular_day   \n",
       "school_holiday                                  1                    1   \n",
       "store_type                                      c                    a   \n",
       "assortment                                  basic                basic   \n",
       "competition_distance                       1270.0                570.0   \n",
       "competition_open_since_month                    9                   11   \n",
       "competition_open_since_year                  2008                 2007   \n",
       "promo2                                          0                    1   \n",
       "promo2_since_week                              31                   13   \n",
       "promo2_since_year                            2015                 2010   \n",
       "promo_interval                                  0      Jan,Apr,Jul,Oct   \n",
       "month_map                                     Jul                  Jul   \n",
       "is_promo                                        0                    1   \n",
       "year                                         2015                 2015   \n",
       "month                                           7                    7   \n",
       "day                                            31                   31   \n",
       "week_of_year                                   31                   31   \n",
       "week_year                                 2015-30              2015-30   \n",
       "competition_since             2008-09-01 00:00:00  2007-11-01 00:00:00   \n",
       "competition_time_month                         84                   94   \n",
       "promo_since                   2015-07-27 00:00:00  2010-03-22 00:00:00   \n",
       "promo_time_week                               360                  404   \n",
       "\n",
       "                                                2                    3  \\\n",
       "store                                           3                    4   \n",
       "day_of_week                                     5                    5   \n",
       "date                          2015-07-31 00:00:00  2015-07-31 00:00:00   \n",
       "sales                                        8314                13995   \n",
       "customers                                     821                 1498   \n",
       "open                                            1                    1   \n",
       "promo                                           1                    1   \n",
       "state_holiday                         regular_day          regular_day   \n",
       "school_holiday                                  1                    1   \n",
       "store_type                                      a                    c   \n",
       "assortment                                  basic             extended   \n",
       "competition_distance                      14130.0                620.0   \n",
       "competition_open_since_month                   12                    9   \n",
       "competition_open_since_year                  2006                 2009   \n",
       "promo2                                          1                    0   \n",
       "promo2_since_week                              14                   31   \n",
       "promo2_since_year                            2011                 2015   \n",
       "promo_interval                    Jan,Apr,Jul,Oct                    0   \n",
       "month_map                                     Jul                  Jul   \n",
       "is_promo                                        1                    0   \n",
       "year                                         2015                 2015   \n",
       "month                                           7                    7   \n",
       "day                                            31                   31   \n",
       "week_of_year                                   31                   31   \n",
       "week_year                                 2015-30              2015-30   \n",
       "competition_since             2006-12-01 00:00:00  2009-09-01 00:00:00   \n",
       "competition_time_month                        105                   71   \n",
       "promo_since                   2011-03-28 00:00:00  2015-07-27 00:00:00   \n",
       "promo_time_week                               452                  308   \n",
       "\n",
       "                                                4  \n",
       "store                                           5  \n",
       "day_of_week                                     5  \n",
       "date                          2015-07-31 00:00:00  \n",
       "sales                                        4822  \n",
       "customers                                     559  \n",
       "open                                            1  \n",
       "promo                                           1  \n",
       "state_holiday                         regular_day  \n",
       "school_holiday                                  1  \n",
       "store_type                                      a  \n",
       "assortment                                  basic  \n",
       "competition_distance                      29910.0  \n",
       "competition_open_since_month                    4  \n",
       "competition_open_since_year                  2015  \n",
       "promo2                                          0  \n",
       "promo2_since_week                              31  \n",
       "promo2_since_year                            2015  \n",
       "promo_interval                                  0  \n",
       "month_map                                     Jul  \n",
       "is_promo                                        0  \n",
       "year                                         2015  \n",
       "month                                           7  \n",
       "day                                            31  \n",
       "week_of_year                                   31  \n",
       "week_year                                 2015-30  \n",
       "competition_since             2015-04-01 00:00:00  \n",
       "competition_time_month                          4  \n",
       "promo_since                   2015-07-27 00:00:00  \n",
       "promo_time_week                                17  "
      ]
     },
     "execution_count": 19,
     "metadata": {},
     "output_type": "execute_result"
    }
   ],
   "source": [
    "df2.head().T"
   ]
  },
  {
   "cell_type": "markdown",
   "id": "8277232d",
   "metadata": {},
   "source": [
    "# 3.0. Passo 03 - Filtragem de Variáveis\n"
   ]
  },
  {
   "cell_type": "code",
   "execution_count": 34,
   "id": "c5b42f2f",
   "metadata": {
    "ExecuteTime": {
     "end_time": "2022-06-18T16:57:41.633937Z",
     "start_time": "2022-06-18T16:57:41.332939Z"
    }
   },
   "outputs": [
    {
     "data": {
      "text/html": [
       "<div>\n",
       "<style scoped>\n",
       "    .dataframe tbody tr th:only-of-type {\n",
       "        vertical-align: middle;\n",
       "    }\n",
       "\n",
       "    .dataframe tbody tr th {\n",
       "        vertical-align: top;\n",
       "    }\n",
       "\n",
       "    .dataframe thead th {\n",
       "        text-align: right;\n",
       "    }\n",
       "</style>\n",
       "<table border=\"1\" class=\"dataframe\">\n",
       "  <thead>\n",
       "    <tr style=\"text-align: right;\">\n",
       "      <th></th>\n",
       "      <th>store</th>\n",
       "      <th>day_of_week</th>\n",
       "      <th>date</th>\n",
       "      <th>sales</th>\n",
       "      <th>customers</th>\n",
       "      <th>open</th>\n",
       "      <th>promo</th>\n",
       "      <th>state_holiday</th>\n",
       "      <th>school_holiday</th>\n",
       "      <th>store_type</th>\n",
       "      <th>assortment</th>\n",
       "      <th>competition_distance</th>\n",
       "      <th>competition_open_since_month</th>\n",
       "      <th>competition_open_since_year</th>\n",
       "      <th>promo2</th>\n",
       "      <th>promo2_since_week</th>\n",
       "      <th>promo2_since_year</th>\n",
       "      <th>promo_interval</th>\n",
       "      <th>month_map</th>\n",
       "      <th>is_promo</th>\n",
       "      <th>year</th>\n",
       "      <th>month</th>\n",
       "      <th>day</th>\n",
       "      <th>week_of_year</th>\n",
       "      <th>week_year</th>\n",
       "      <th>competition_since</th>\n",
       "      <th>competition_time_month</th>\n",
       "      <th>promo_since</th>\n",
       "      <th>promo_time_week</th>\n",
       "    </tr>\n",
       "  </thead>\n",
       "  <tbody>\n",
       "    <tr>\n",
       "      <th>0</th>\n",
       "      <td>1</td>\n",
       "      <td>5</td>\n",
       "      <td>2015-07-31</td>\n",
       "      <td>5263</td>\n",
       "      <td>555</td>\n",
       "      <td>1</td>\n",
       "      <td>1</td>\n",
       "      <td>regular_day</td>\n",
       "      <td>1</td>\n",
       "      <td>c</td>\n",
       "      <td>basic</td>\n",
       "      <td>1270.0</td>\n",
       "      <td>9</td>\n",
       "      <td>2008</td>\n",
       "      <td>0</td>\n",
       "      <td>31</td>\n",
       "      <td>2015</td>\n",
       "      <td>0</td>\n",
       "      <td>Jul</td>\n",
       "      <td>0</td>\n",
       "      <td>2015</td>\n",
       "      <td>7</td>\n",
       "      <td>31</td>\n",
       "      <td>31</td>\n",
       "      <td>2015-30</td>\n",
       "      <td>2008-09-01</td>\n",
       "      <td>84</td>\n",
       "      <td>2015-07-27</td>\n",
       "      <td>360</td>\n",
       "    </tr>\n",
       "    <tr>\n",
       "      <th>1</th>\n",
       "      <td>2</td>\n",
       "      <td>5</td>\n",
       "      <td>2015-07-31</td>\n",
       "      <td>6064</td>\n",
       "      <td>625</td>\n",
       "      <td>1</td>\n",
       "      <td>1</td>\n",
       "      <td>regular_day</td>\n",
       "      <td>1</td>\n",
       "      <td>a</td>\n",
       "      <td>basic</td>\n",
       "      <td>570.0</td>\n",
       "      <td>11</td>\n",
       "      <td>2007</td>\n",
       "      <td>1</td>\n",
       "      <td>13</td>\n",
       "      <td>2010</td>\n",
       "      <td>Jan,Apr,Jul,Oct</td>\n",
       "      <td>Jul</td>\n",
       "      <td>1</td>\n",
       "      <td>2015</td>\n",
       "      <td>7</td>\n",
       "      <td>31</td>\n",
       "      <td>31</td>\n",
       "      <td>2015-30</td>\n",
       "      <td>2007-11-01</td>\n",
       "      <td>94</td>\n",
       "      <td>2010-03-22</td>\n",
       "      <td>404</td>\n",
       "    </tr>\n",
       "    <tr>\n",
       "      <th>2</th>\n",
       "      <td>3</td>\n",
       "      <td>5</td>\n",
       "      <td>2015-07-31</td>\n",
       "      <td>8314</td>\n",
       "      <td>821</td>\n",
       "      <td>1</td>\n",
       "      <td>1</td>\n",
       "      <td>regular_day</td>\n",
       "      <td>1</td>\n",
       "      <td>a</td>\n",
       "      <td>basic</td>\n",
       "      <td>14130.0</td>\n",
       "      <td>12</td>\n",
       "      <td>2006</td>\n",
       "      <td>1</td>\n",
       "      <td>14</td>\n",
       "      <td>2011</td>\n",
       "      <td>Jan,Apr,Jul,Oct</td>\n",
       "      <td>Jul</td>\n",
       "      <td>1</td>\n",
       "      <td>2015</td>\n",
       "      <td>7</td>\n",
       "      <td>31</td>\n",
       "      <td>31</td>\n",
       "      <td>2015-30</td>\n",
       "      <td>2006-12-01</td>\n",
       "      <td>105</td>\n",
       "      <td>2011-03-28</td>\n",
       "      <td>452</td>\n",
       "    </tr>\n",
       "    <tr>\n",
       "      <th>3</th>\n",
       "      <td>4</td>\n",
       "      <td>5</td>\n",
       "      <td>2015-07-31</td>\n",
       "      <td>13995</td>\n",
       "      <td>1498</td>\n",
       "      <td>1</td>\n",
       "      <td>1</td>\n",
       "      <td>regular_day</td>\n",
       "      <td>1</td>\n",
       "      <td>c</td>\n",
       "      <td>extended</td>\n",
       "      <td>620.0</td>\n",
       "      <td>9</td>\n",
       "      <td>2009</td>\n",
       "      <td>0</td>\n",
       "      <td>31</td>\n",
       "      <td>2015</td>\n",
       "      <td>0</td>\n",
       "      <td>Jul</td>\n",
       "      <td>0</td>\n",
       "      <td>2015</td>\n",
       "      <td>7</td>\n",
       "      <td>31</td>\n",
       "      <td>31</td>\n",
       "      <td>2015-30</td>\n",
       "      <td>2009-09-01</td>\n",
       "      <td>71</td>\n",
       "      <td>2015-07-27</td>\n",
       "      <td>308</td>\n",
       "    </tr>\n",
       "    <tr>\n",
       "      <th>4</th>\n",
       "      <td>5</td>\n",
       "      <td>5</td>\n",
       "      <td>2015-07-31</td>\n",
       "      <td>4822</td>\n",
       "      <td>559</td>\n",
       "      <td>1</td>\n",
       "      <td>1</td>\n",
       "      <td>regular_day</td>\n",
       "      <td>1</td>\n",
       "      <td>a</td>\n",
       "      <td>basic</td>\n",
       "      <td>29910.0</td>\n",
       "      <td>4</td>\n",
       "      <td>2015</td>\n",
       "      <td>0</td>\n",
       "      <td>31</td>\n",
       "      <td>2015</td>\n",
       "      <td>0</td>\n",
       "      <td>Jul</td>\n",
       "      <td>0</td>\n",
       "      <td>2015</td>\n",
       "      <td>7</td>\n",
       "      <td>31</td>\n",
       "      <td>31</td>\n",
       "      <td>2015-30</td>\n",
       "      <td>2015-04-01</td>\n",
       "      <td>4</td>\n",
       "      <td>2015-07-27</td>\n",
       "      <td>17</td>\n",
       "    </tr>\n",
       "  </tbody>\n",
       "</table>\n",
       "</div>"
      ],
      "text/plain": [
       "   store  day_of_week       date  sales  customers  open  promo state_holiday  school_holiday store_type assortment  competition_distance  competition_open_since_month  competition_open_since_year  promo2  promo2_since_week  promo2_since_year   promo_interval month_map  is_promo  year  month  day  week_of_year week_year competition_since  competition_time_month promo_since  promo_time_week\n",
       "0      1            5 2015-07-31   5263        555     1      1   regular_day               1          c      basic                1270.0                             9                         2008       0                 31               2015                0       Jul         0  2015      7   31            31   2015-30        2008-09-01                      84  2015-07-27              360\n",
       "1      2            5 2015-07-31   6064        625     1      1   regular_day               1          a      basic                 570.0                            11                         2007       1                 13               2010  Jan,Apr,Jul,Oct       Jul         1  2015      7   31            31   2015-30        2007-11-01                      94  2010-03-22              404\n",
       "2      3            5 2015-07-31   8314        821     1      1   regular_day               1          a      basic               14130.0                            12                         2006       1                 14               2011  Jan,Apr,Jul,Oct       Jul         1  2015      7   31            31   2015-30        2006-12-01                     105  2011-03-28              452\n",
       "3      4            5 2015-07-31  13995       1498     1      1   regular_day               1          c   extended                 620.0                             9                         2009       0                 31               2015                0       Jul         0  2015      7   31            31   2015-30        2009-09-01                      71  2015-07-27              308\n",
       "4      5            5 2015-07-31   4822        559     1      1   regular_day               1          a      basic               29910.0                             4                         2015       0                 31               2015                0       Jul         0  2015      7   31            31   2015-30        2015-04-01                       4  2015-07-27               17"
      ]
     },
     "execution_count": 34,
     "metadata": {},
     "output_type": "execute_result"
    }
   ],
   "source": [
    "df3 = df2.copy()\n",
    "df3.head()"
   ]
  },
  {
   "cell_type": "markdown",
   "id": "e385e3e5",
   "metadata": {},
   "source": [
    "## 3.1. Filtragem das linhas"
   ]
  },
  {
   "cell_type": "code",
   "execution_count": 35,
   "id": "796074d3",
   "metadata": {
    "ExecuteTime": {
     "end_time": "2022-06-18T16:57:47.536786Z",
     "start_time": "2022-06-18T16:57:47.332781Z"
    }
   },
   "outputs": [],
   "source": [
    "df3 = df3[(df3['open'] != 0 ) & (df3['sales'] > 0)]"
   ]
  },
  {
   "cell_type": "markdown",
   "id": "767b6470",
   "metadata": {},
   "source": [
    "## 3.2. Seleçaõ de colunas"
   ]
  },
  {
   "cell_type": "code",
   "execution_count": 36,
   "id": "016b8b81",
   "metadata": {
    "ExecuteTime": {
     "end_time": "2022-06-18T16:57:51.390753Z",
     "start_time": "2022-06-18T16:57:51.235754Z"
    }
   },
   "outputs": [],
   "source": [
    "cols_drop = ['customers', 'open','promo_interval','month_map']\n",
    "df3 = df3.drop( cols_drop , axis=1)"
   ]
  },
  {
   "cell_type": "code",
   "execution_count": null,
   "id": "b6c26536",
   "metadata": {},
   "outputs": [],
   "source": []
  }
 ],
 "metadata": {
  "kernelspec": {
   "display_name": "Python 3 (ipykernel)",
   "language": "python",
   "name": "python3"
  },
  "language_info": {
   "codemirror_mode": {
    "name": "ipython",
    "version": 3
   },
   "file_extension": ".py",
   "mimetype": "text/x-python",
   "name": "python",
   "nbconvert_exporter": "python",
   "pygments_lexer": "ipython3",
   "version": "3.9.7"
  }
 },
 "nbformat": 4,
 "nbformat_minor": 5
}
